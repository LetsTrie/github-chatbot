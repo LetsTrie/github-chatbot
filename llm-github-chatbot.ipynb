{
 "cells": [
  {
   "cell_type": "code",
   "execution_count": null,
   "id": "7ff6f769-149f-4d49-8616-82e49a00c98a",
   "metadata": {},
   "outputs": [],
   "source": [
    "# !pyenv install 3.12.4\n",
    "# !pyenv local 3.12.4\n",
    "# !python -m venv .venv\n",
    "# !source .venv/bin/activate\n"
   ]
  },
  {
   "cell_type": "code",
   "execution_count": null,
   "id": "83a25875-0b63-4c50-9bed-5ccd2503bfc5",
   "metadata": {},
   "outputs": [],
   "source": [
    "!pip install -r requirements.txt\n"
   ]
  },
  {
   "cell_type": "code",
   "execution_count": null,
   "id": "62a6c562-daef-4452-ae62-0cfb879be6f9",
   "metadata": {},
   "outputs": [],
   "source": [
    "import os\n",
    "import json\n",
    "import logging\n",
    "import requests\n",
    "from urllib.parse import urlparse\n",
    "from dotenv import load_dotenv, find_dotenv\n"
   ]
  },
  {
   "cell_type": "code",
   "execution_count": null,
   "id": "767018c5-5a92-49b8-8f29-9795a39ed472",
   "metadata": {},
   "outputs": [],
   "source": [
    "load_dotenv(find_dotenv())\n",
    "\n",
    "logging.basicConfig(\n",
    "    level=logging.INFO,\n",
    "    format='%(asctime)s - %(levelname)s - %(message)s'\n",
    ")\n"
   ]
  },
  {
   "cell_type": "code",
   "execution_count": null,
   "id": "3bf561ea-3828-45be-aca0-ef220de5cddb",
   "metadata": {},
   "outputs": [],
   "source": [
    "GITHUB_ACCESS_TOKEN = os.environ.get(\"GITHUB_ACCESS_TOKEN\")\n"
   ]
  },
  {
   "cell_type": "code",
   "execution_count": null,
   "id": "a3f89059-41ac-4efb-b99b-8e7e74df7298",
   "metadata": {},
   "outputs": [],
   "source": [
    "def is_empty(value): \n",
    "    if not value or value.strip() == \"\":\n",
    "        return True\n",
    "        \n",
    "    return False\n",
    "    "
   ]
  },
  {
   "cell_type": "code",
   "execution_count": null,
   "id": "2b69080c-8ef1-4f80-8e90-7b64f5bd1308",
   "metadata": {},
   "outputs": [],
   "source": [
    "def get_repo_from_url(github_url):\n",
    "    parsed_url = urlparse(github_url)\n",
    "    \n",
    "    path_parts = parsed_url.path.strip('/').split('/')\n",
    "    \n",
    "    if len(path_parts) >= 2:\n",
    "        owner = path_parts[0]\n",
    "        repo = path_parts[1]\n",
    "        return owner, repo\n",
    "    else:\n",
    "        print(\"Invalid GitHub URL\")\n",
    "        return None, None\n",
    "        "
   ]
  },
  {
   "cell_type": "code",
   "execution_count": null,
   "id": "190da67c-7be8-4e47-a13a-7ca80b40251e",
   "metadata": {},
   "outputs": [],
   "source": [
    "def fetch_github_data(endpoint, repo, params=None):\n",
    "    # if is_empty(GITHUB_ACCESS_TOKEN):\n",
    "    #     logging.error(\"GITHUB_ACCESS_TOKEN is not set, is None, or is an empty string.\")\n",
    "    #     return False\n",
    "      \n",
    "    url = f\"https://api.github.com/repos/{repo}/{endpoint}\"\n",
    "\n",
    "    headers = {\n",
    "        # \"Authorization\": f\"Bearer {GITHUB_ACCESS_TOKEN}\",\n",
    "        \"Accept\": \"application/vnd.github+json\",\n",
    "        \"X-GitHub-Api-Version\": \"2022-11-28\"\n",
    "    }\n",
    "\n",
    "    logging.info(f\"Fetching data from {url} with params: {params}\")\n",
    "    response = requests.get(url, headers=headers, params=params)\n",
    "\n",
    "    if response.status_code != 200:\n",
    "        logging.error(f\"Failed to fetch data: HTTP {response.status_code}\")\n",
    "        logging.error(f\"Response text: {response.text}\")\n",
    "        return None\n",
    "    \n",
    "    try:\n",
    "        data = response.json()\n",
    "        logging.info(f\"Data fetched successfully from {url}\")\n",
    "        return data\n",
    "    except requests.JSONDecodeError as e:\n",
    "        logging.error(\"Failed to parse JSON response\")\n",
    "        logging.exception(e)\n",
    "        return None\n",
    "        "
   ]
  },
  {
   "cell_type": "code",
   "execution_count": null,
   "id": "8b7e10d8-0171-49a2-b323-2047d5d25aee",
   "metadata": {},
   "outputs": [],
   "source": [
    "github_url = \"https://github.com/apache/kafka\"\n",
    "owner, repo = get_repo_from_url(github_url)\n",
    "\n",
    "print(f\"Owner: {owner}\\nRepository: {repo}\")\n"
   ]
  },
  {
   "cell_type": "code",
   "execution_count": null,
   "id": "c9740874-d8b3-4b44-ade7-0a288c233c54",
   "metadata": {},
   "outputs": [],
   "source": [
    "issues = fetch_github_data(endpoint=\"issues\", repo=f\"{owner}/{repo}\", params={\"state\": \"open\"})\n",
    "# print(json.dumps(issues, indent=4))\n"
   ]
  },
  {
   "cell_type": "code",
   "execution_count": null,
   "id": "08574461-ed45-4448-ba8c-5fdd7585b108",
   "metadata": {},
   "outputs": [],
   "source": [
    "issues = fetch_github_data(endpoint=\"commits\", repo=f\"{owner}/{repo}\")\n",
    "# print(json.dumps(issues, indent=4))\n"
   ]
  },
  {
   "cell_type": "code",
   "execution_count": null,
   "id": "3c7e4657-2835-4022-b682-2aced44ac23e",
   "metadata": {},
   "outputs": [],
   "source": [
    "def fetch_pull_request(repo, pull_request_url):\n",
    "    pr_number = pull_request_url.split('/')[-1]\n",
    "    endpoint = f\"pulls/{pr_number}\"\n",
    "    return fetch_github_data(endpoint, repo)\n"
   ]
  }
 ],
 "metadata": {
  "kernelspec": {
   "display_name": "Python 3 (ipykernel)",
   "language": "python",
   "name": "python3"
  },
  "language_info": {
   "codemirror_mode": {
    "name": "ipython",
    "version": 3
   },
   "file_extension": ".py",
   "mimetype": "text/x-python",
   "name": "python",
   "nbconvert_exporter": "python",
   "pygments_lexer": "ipython3",
   "version": "3.12.4"
  }
 },
 "nbformat": 4,
 "nbformat_minor": 5
}
