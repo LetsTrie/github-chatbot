{
 "cells": [
  {
   "cell_type": "code",
   "execution_count": null,
   "id": "7ff6f769-149f-4d49-8616-82e49a00c98a",
   "metadata": {},
   "outputs": [],
   "source": [
    "# !pyenv install 3.12.4\n",
    "# !pyenv local 3.12.4\n",
    "# !python -m venv .venv\n",
    "# !source .venv/bin/activate\n"
   ]
  },
  {
   "cell_type": "code",
   "execution_count": null,
   "id": "83a25875-0b63-4c50-9bed-5ccd2503bfc5",
   "metadata": {},
   "outputs": [],
   "source": [
    "# !pip install -r requirements.txt\n"
   ]
  },
  {
   "cell_type": "code",
   "execution_count": null,
   "id": "62a6c562-daef-4452-ae62-0cfb879be6f9",
   "metadata": {},
   "outputs": [],
   "source": [
    "import os\n",
    "import csv\n",
    "import json\n",
    "import logging\n",
    "import requests\n",
    "from urllib.parse import urlparse\n",
    "from dotenv import load_dotenv, find_dotenv\n"
   ]
  },
  {
   "cell_type": "code",
   "execution_count": null,
   "id": "767018c5-5a92-49b8-8f29-9795a39ed472",
   "metadata": {},
   "outputs": [],
   "source": [
    "load_dotenv(find_dotenv())\n",
    "\n",
    "logging.basicConfig(\n",
    "    level=logging.INFO,\n",
    "    format='%(asctime)s - %(levelname)s - %(message)s'\n",
    ")\n"
   ]
  },
  {
   "cell_type": "code",
   "execution_count": null,
   "id": "2b69080c-8ef1-4f80-8e90-7b64f5bd1308",
   "metadata": {},
   "outputs": [],
   "source": [
    "def get_repo_from_url(github_url):\n",
    "    parsed_url = urlparse(github_url)\n",
    "    \n",
    "    path_parts = parsed_url.path.strip('/').split('/')\n",
    "    \n",
    "    if len(path_parts) >= 2:\n",
    "        owner = path_parts[0]\n",
    "        repo = path_parts[1]\n",
    "        return owner, repo\n",
    "    else:\n",
    "        print(\"Invalid GitHub URL\")\n",
    "        return None, None\n",
    "        "
   ]
  },
  {
   "cell_type": "code",
   "execution_count": null,
   "id": "8b7e10d8-0171-49a2-b323-2047d5d25aee",
   "metadata": {},
   "outputs": [],
   "source": [
    "# github_url = \"https://github.com/apache/kafka\"\n",
    "# github_url = \"https://github.com/midday-ai/v1\"\n",
    "github_url = \"https://github.com/midday-ai/midday\"\n",
    "# github_url = \"https://github.com/LetsTrie/Grind-75\"\n",
    "\n",
    "owner, repo = get_repo_from_url(github_url)\n",
    "print(f\"Owner: {owner}\\nRepository: {repo}\")\n"
   ]
  },
  {
   "cell_type": "code",
   "execution_count": null,
   "id": "3bf561ea-3828-45be-aca0-ef220de5cddb",
   "metadata": {},
   "outputs": [],
   "source": [
    "GITHUB_ACCESS_TOKEN = os.environ.get(\"GITHUB_ACCESS_TOKEN\")\n"
   ]
  },
  {
   "cell_type": "code",
   "execution_count": null,
   "id": "a3f89059-41ac-4efb-b99b-8e7e74df7298",
   "metadata": {},
   "outputs": [],
   "source": [
    "def is_empty(value): \n",
    "    if not value or value.strip() == \"\":\n",
    "        return True\n",
    "        \n",
    "    return False\n",
    "    "
   ]
  },
  {
   "cell_type": "code",
   "execution_count": null,
   "id": "526250b4-825c-408b-a8de-58e104f36f7d",
   "metadata": {},
   "outputs": [],
   "source": [
    "DATA_DIRECTORY = \"data\"\n",
    "os.makedirs(DATA_DIRECTORY, exist_ok=True)\n",
    "\n",
    "def create_csv_file(data_list, file_name):\n",
    "    file_path = os.path.join(DATA_DIRECTORY, file_name)\n",
    "    with open(file_path, mode='w', newline='') as csv_file:\n",
    "        csv_writer = csv.DictWriter(csv_file, fieldnames=data_list[0].keys())\n",
    "        csv_writer.writeheader()\n",
    "        csv_writer.writerows(data_list)\n",
    "    logging.info(f\"CSV file '{file_path}' created successfully.\")\n",
    "\n",
    "def read_csv_to_array(file_name):\n",
    "    data_list = []\n",
    "    file_path = os.path.join(DATA_DIRECTORY, file_name)\n",
    "    \n",
    "    try:\n",
    "        with open(file_path, mode='r') as csv_file:\n",
    "            csv_reader = csv.DictReader(csv_file)\n",
    "            for row in csv_reader:\n",
    "                data_list.append(row)\n",
    "        logging.info(f\"Data successfully read from '{file_path}' into array.\")\n",
    "    except FileNotFoundError:\n",
    "        logging.error(f\"File '{file_path}' not found.\")\n",
    "    except Exception as error:\n",
    "        logging.error(f\"An error occurred while reading '{file_path}': {error}\")\n",
    "    \n",
    "    return data_list\n"
   ]
  },
  {
   "cell_type": "code",
   "execution_count": null,
   "id": "62b7ae6e-e998-41f7-9e18-14649d529761",
   "metadata": {},
   "outputs": [],
   "source": [
    "def get_data_with_backup(filename, cb):\n",
    "    csv_path = os.path.join(DATA_DIRECTORY, filename)\n",
    "    \n",
    "    if os.path.exists(csv_path):\n",
    "        logging.info(f\"File '{csv_path}' exists. Reading data from the file.\")\n",
    "        return read_csv_to_array(filename)\n",
    "    else:\n",
    "        logging.info(f\"File '{csv_path}' does not exist. Executing GitHub API.\")\n",
    "        data = cb()\n",
    "        if data:\n",
    "            create_csv_file(data, filename)\n",
    "        return data\n",
    "        "
   ]
  },
  {
   "cell_type": "code",
   "execution_count": null,
   "id": "190da67c-7be8-4e47-a13a-7ca80b40251e",
   "metadata": {},
   "outputs": [],
   "source": [
    "def fetch_github_data(endpoint, repo, params=None):\n",
    "    url = f\"https://api.github.com/repos/{repo}/{endpoint}\"\n",
    "\n",
    "    headers = {\n",
    "        \"Authorization\": f\"Bearer {GITHUB_ACCESS_TOKEN}\",\n",
    "        \"Accept\": \"application/vnd.github+json\",\n",
    "        \"X-GitHub-Api-Version\": \"2022-11-28\"\n",
    "    }\n",
    "\n",
    "    all_data = []\n",
    "    page = 1\n",
    "    per_page = 100  \n",
    "\n",
    "    while True:\n",
    "        if params is None:\n",
    "            params = {}\n",
    "            \n",
    "        params.update({\"page\": page, \"per_page\": per_page})\n",
    "        \n",
    "        logging.info(f\"Fetching data from {url} with params: {params}\")\n",
    "        response = requests.get(url, headers=headers, params=params)\n",
    "\n",
    "        if response.status_code != 200:\n",
    "            logging.error(f\"Failed to fetch data: HTTP {response.status_code}\")\n",
    "            logging.error(f\"Response text: {response.text}\")\n",
    "            logging.error(f\"headers: {headers}\")\n",
    "            return None\n",
    "        \n",
    "        try:\n",
    "            data = response.json()\n",
    "            if not data: \n",
    "                break\n",
    "\n",
    "            all_data.extend(data)\n",
    "            page += 1\n",
    "        except requests.JSONDecodeError as e:\n",
    "            logging.error(\"Failed to parse JSON response\")\n",
    "            logging.exception(e)\n",
    "            return None\n",
    "\n",
    "    logging.info(f\"Total data fetched: {len(all_data)} items\")\n",
    "    return all_data\n"
   ]
  },
  {
   "cell_type": "code",
   "execution_count": null,
   "id": "c606a30d-35cb-4b87-bf5c-eff65d314881",
   "metadata": {},
   "outputs": [],
   "source": [
    "def fetch_and_process_commits(owner, repo):\n",
    "    commit_data = fetch_github_data(endpoint=\"commits\", repo=f\"{owner}/{repo}\")\n",
    "\n",
    "    if not commit_data:\n",
    "        logging.error(\"Failed to fetch commits from the GitHub API.\")\n",
    "        return []\n",
    "\n",
    "    processed_commits = []\n",
    "    for commit_entry in commit_data:\n",
    "        commit_details = {\n",
    "            \"title\": commit_entry[\"commit\"][\"message\"].split('\\n')[0],\n",
    "            \"author_name\": commit_entry[\"commit\"][\"author\"][\"name\"],\n",
    "            \"author_email\": commit_entry[\"commit\"][\"author\"][\"email\"],\n",
    "            \"commit_date\": commit_entry[\"commit\"][\"author\"][\"date\"],\n",
    "            \"full_message\": commit_entry[\"commit\"][\"message\"],\n",
    "            \"commit_hash\": commit_entry[\"sha\"],\n",
    "            \"commit_url\": commit_entry[\"html_url\"]\n",
    "        }\n",
    "        processed_commits.append(commit_details)\n",
    "\n",
    "    return processed_commits\n",
    "\n",
    "def get_commits_data(owner, repo):\n",
    "    return get_data_with_backup(f\"{owner}_{repo}_commits.csv\", lambda: fetch_and_process_commits(owner, repo))\n",
    "\n",
    "print(json.dumps(get_commits_data(owner, repo), indent=4))\n"
   ]
  },
  {
   "cell_type": "code",
   "execution_count": null,
   "id": "5a3eabcb-0626-48d1-9067-c0f433a0b2bd",
   "metadata": {},
   "outputs": [],
   "source": []
  },
  {
   "cell_type": "code",
   "execution_count": null,
   "id": "348eca1d-6575-4801-b7df-b31c2f6a14f7",
   "metadata": {},
   "outputs": [],
   "source": []
  },
  {
   "cell_type": "code",
   "execution_count": null,
   "id": "31e5c84c-8605-45e4-b1a5-b0cd733495fb",
   "metadata": {},
   "outputs": [],
   "source": []
  },
  {
   "cell_type": "code",
   "execution_count": null,
   "id": "d35f2c63-072c-4abb-9a50-e09f9ecf9779",
   "metadata": {},
   "outputs": [],
   "source": []
  },
  {
   "cell_type": "code",
   "execution_count": null,
   "id": "cebe14c1-3646-4639-9e3b-3bcb9d5fa658",
   "metadata": {},
   "outputs": [],
   "source": []
  },
  {
   "cell_type": "code",
   "execution_count": null,
   "id": "3da0d519-342a-4786-a40a-5099ffdeec23",
   "metadata": {},
   "outputs": [],
   "source": []
  },
  {
   "cell_type": "code",
   "execution_count": null,
   "id": "9e7a0331-aad8-42ed-bccf-a506c125f582",
   "metadata": {},
   "outputs": [],
   "source": []
  },
  {
   "cell_type": "code",
   "execution_count": null,
   "id": "7967b07a-9109-4d95-8f51-2d2044bc40e3",
   "metadata": {},
   "outputs": [],
   "source": []
  },
  {
   "cell_type": "code",
   "execution_count": null,
   "id": "385727e9-964e-49bd-89f0-d36c595d2108",
   "metadata": {},
   "outputs": [],
   "source": []
  },
  {
   "cell_type": "code",
   "execution_count": null,
   "id": "39dad009-438b-49dc-8f8d-cc4a434a67f0",
   "metadata": {},
   "outputs": [],
   "source": []
  },
  {
   "cell_type": "code",
   "execution_count": null,
   "id": "43d1de4b-9853-4523-ab6f-5735b5b17422",
   "metadata": {},
   "outputs": [],
   "source": []
  },
  {
   "cell_type": "code",
   "execution_count": null,
   "id": "b3601ddb-d09c-477d-8cd3-16faa9138e47",
   "metadata": {},
   "outputs": [],
   "source": []
  },
  {
   "cell_type": "code",
   "execution_count": null,
   "id": "7e094ec1-63a9-445d-b423-aee630d6099f",
   "metadata": {},
   "outputs": [],
   "source": []
  },
  {
   "cell_type": "code",
   "execution_count": null,
   "id": "230c3802-cecb-4c36-817b-5b31af857a61",
   "metadata": {},
   "outputs": [],
   "source": []
  },
  {
   "cell_type": "code",
   "execution_count": null,
   "id": "8cddbfe6-c929-4266-97a1-c3e0cf8f1c80",
   "metadata": {},
   "outputs": [],
   "source": []
  },
  {
   "cell_type": "code",
   "execution_count": null,
   "id": "00284a81-4361-4814-9d8b-484cda670827",
   "metadata": {},
   "outputs": [],
   "source": []
  },
  {
   "cell_type": "code",
   "execution_count": null,
   "id": "c9740874-d8b3-4b44-ade7-0a288c233c54",
   "metadata": {},
   "outputs": [],
   "source": [
    "# issues = fetch_github_data(endpoint=\"issues\", repo=f\"{owner}/{repo}\", params={\"state\": \"open\"})\n",
    "# print(json.dumps(issues, indent=4))\n"
   ]
  }
 ],
 "metadata": {
  "kernelspec": {
   "display_name": "Python 3 (ipykernel)",
   "language": "python",
   "name": "python3"
  },
  "language_info": {
   "codemirror_mode": {
    "name": "ipython",
    "version": 3
   },
   "file_extension": ".py",
   "mimetype": "text/x-python",
   "name": "python",
   "nbconvert_exporter": "python",
   "pygments_lexer": "ipython3",
   "version": "3.12.4"
  }
 },
 "nbformat": 4,
 "nbformat_minor": 5
}
