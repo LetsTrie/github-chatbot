{
 "cells": [
  {
   "cell_type": "code",
   "execution_count": 13,
   "id": "83a25875-0b63-4c50-9bed-5ccd2503bfc5",
   "metadata": {},
   "outputs": [
    {
     "name": "stdout",
     "output_type": "stream",
     "text": [
      "Requirement already satisfied: langchain==0.2.15 in ./.venv/lib/python3.12/site-packages (from -r requirements.txt (line 1)) (0.2.15)\n",
      "Requirement already satisfied: openai==1.43.0 in ./.venv/lib/python3.12/site-packages (from -r requirements.txt (line 2)) (1.43.0)\n",
      "Requirement already satisfied: requests==2.32.3 in ./.venv/lib/python3.12/site-packages (from -r requirements.txt (line 3)) (2.32.3)\n",
      "Requirement already satisfied: python-dotenv==1.0.1 in ./.venv/lib/python3.12/site-packages (from -r requirements.txt (line 4)) (1.0.1)\n",
      "Requirement already satisfied: pandas==2.2.2 in ./.venv/lib/python3.12/site-packages (from -r requirements.txt (line 5)) (2.2.2)\n",
      "Requirement already satisfied: PyYAML>=5.3 in ./.venv/lib/python3.12/site-packages (from langchain==0.2.15->-r requirements.txt (line 1)) (6.0.2)\n",
      "Requirement already satisfied: SQLAlchemy<3,>=1.4 in ./.venv/lib/python3.12/site-packages (from langchain==0.2.15->-r requirements.txt (line 1)) (2.0.32)\n",
      "Requirement already satisfied: aiohttp<4.0.0,>=3.8.3 in ./.venv/lib/python3.12/site-packages (from langchain==0.2.15->-r requirements.txt (line 1)) (3.10.5)\n",
      "Requirement already satisfied: langchain-core<0.3.0,>=0.2.35 in ./.venv/lib/python3.12/site-packages (from langchain==0.2.15->-r requirements.txt (line 1)) (0.2.37)\n",
      "Requirement already satisfied: langchain-text-splitters<0.3.0,>=0.2.0 in ./.venv/lib/python3.12/site-packages (from langchain==0.2.15->-r requirements.txt (line 1)) (0.2.2)\n",
      "Requirement already satisfied: langsmith<0.2.0,>=0.1.17 in ./.venv/lib/python3.12/site-packages (from langchain==0.2.15->-r requirements.txt (line 1)) (0.1.108)\n",
      "Requirement already satisfied: numpy<2.0.0,>=1.26.0 in ./.venv/lib/python3.12/site-packages (from langchain==0.2.15->-r requirements.txt (line 1)) (1.26.4)\n",
      "Requirement already satisfied: pydantic<3,>=1 in ./.venv/lib/python3.12/site-packages (from langchain==0.2.15->-r requirements.txt (line 1)) (2.8.2)\n",
      "Requirement already satisfied: tenacity!=8.4.0,<9.0.0,>=8.1.0 in ./.venv/lib/python3.12/site-packages (from langchain==0.2.15->-r requirements.txt (line 1)) (8.5.0)\n",
      "Requirement already satisfied: anyio<5,>=3.5.0 in ./.venv/lib/python3.12/site-packages (from openai==1.43.0->-r requirements.txt (line 2)) (4.4.0)\n",
      "Requirement already satisfied: distro<2,>=1.7.0 in ./.venv/lib/python3.12/site-packages (from openai==1.43.0->-r requirements.txt (line 2)) (1.9.0)\n",
      "Requirement already satisfied: httpx<1,>=0.23.0 in ./.venv/lib/python3.12/site-packages (from openai==1.43.0->-r requirements.txt (line 2)) (0.27.2)\n",
      "Requirement already satisfied: jiter<1,>=0.4.0 in ./.venv/lib/python3.12/site-packages (from openai==1.43.0->-r requirements.txt (line 2)) (0.5.0)\n",
      "Requirement already satisfied: sniffio in ./.venv/lib/python3.12/site-packages (from openai==1.43.0->-r requirements.txt (line 2)) (1.3.1)\n",
      "Requirement already satisfied: tqdm>4 in ./.venv/lib/python3.12/site-packages (from openai==1.43.0->-r requirements.txt (line 2)) (4.66.5)\n",
      "Requirement already satisfied: typing-extensions<5,>=4.11 in ./.venv/lib/python3.12/site-packages (from openai==1.43.0->-r requirements.txt (line 2)) (4.12.2)\n",
      "Requirement already satisfied: charset-normalizer<4,>=2 in ./.venv/lib/python3.12/site-packages (from requests==2.32.3->-r requirements.txt (line 3)) (3.3.2)\n",
      "Requirement already satisfied: idna<4,>=2.5 in ./.venv/lib/python3.12/site-packages (from requests==2.32.3->-r requirements.txt (line 3)) (3.8)\n",
      "Requirement already satisfied: urllib3<3,>=1.21.1 in ./.venv/lib/python3.12/site-packages (from requests==2.32.3->-r requirements.txt (line 3)) (2.2.2)\n",
      "Requirement already satisfied: certifi>=2017.4.17 in ./.venv/lib/python3.12/site-packages (from requests==2.32.3->-r requirements.txt (line 3)) (2024.8.30)\n",
      "Requirement already satisfied: python-dateutil>=2.8.2 in ./.venv/lib/python3.12/site-packages (from pandas==2.2.2->-r requirements.txt (line 5)) (2.9.0.post0)\n",
      "Requirement already satisfied: pytz>=2020.1 in ./.venv/lib/python3.12/site-packages (from pandas==2.2.2->-r requirements.txt (line 5)) (2024.1)\n",
      "Requirement already satisfied: tzdata>=2022.7 in ./.venv/lib/python3.12/site-packages (from pandas==2.2.2->-r requirements.txt (line 5)) (2024.1)\n",
      "Requirement already satisfied: aiohappyeyeballs>=2.3.0 in ./.venv/lib/python3.12/site-packages (from aiohttp<4.0.0,>=3.8.3->langchain==0.2.15->-r requirements.txt (line 1)) (2.4.0)\n",
      "Requirement already satisfied: aiosignal>=1.1.2 in ./.venv/lib/python3.12/site-packages (from aiohttp<4.0.0,>=3.8.3->langchain==0.2.15->-r requirements.txt (line 1)) (1.3.1)\n",
      "Requirement already satisfied: attrs>=17.3.0 in ./.venv/lib/python3.12/site-packages (from aiohttp<4.0.0,>=3.8.3->langchain==0.2.15->-r requirements.txt (line 1)) (24.2.0)\n",
      "Requirement already satisfied: frozenlist>=1.1.1 in ./.venv/lib/python3.12/site-packages (from aiohttp<4.0.0,>=3.8.3->langchain==0.2.15->-r requirements.txt (line 1)) (1.4.1)\n",
      "Requirement already satisfied: multidict<7.0,>=4.5 in ./.venv/lib/python3.12/site-packages (from aiohttp<4.0.0,>=3.8.3->langchain==0.2.15->-r requirements.txt (line 1)) (6.0.5)\n",
      "Requirement already satisfied: yarl<2.0,>=1.0 in ./.venv/lib/python3.12/site-packages (from aiohttp<4.0.0,>=3.8.3->langchain==0.2.15->-r requirements.txt (line 1)) (1.9.7)\n",
      "Requirement already satisfied: httpcore==1.* in ./.venv/lib/python3.12/site-packages (from httpx<1,>=0.23.0->openai==1.43.0->-r requirements.txt (line 2)) (1.0.5)\n",
      "Requirement already satisfied: h11<0.15,>=0.13 in ./.venv/lib/python3.12/site-packages (from httpcore==1.*->httpx<1,>=0.23.0->openai==1.43.0->-r requirements.txt (line 2)) (0.14.0)\n",
      "Requirement already satisfied: jsonpatch<2.0,>=1.33 in ./.venv/lib/python3.12/site-packages (from langchain-core<0.3.0,>=0.2.35->langchain==0.2.15->-r requirements.txt (line 1)) (1.33)\n",
      "Requirement already satisfied: packaging<25,>=23.2 in ./.venv/lib/python3.12/site-packages (from langchain-core<0.3.0,>=0.2.35->langchain==0.2.15->-r requirements.txt (line 1)) (24.1)\n",
      "Requirement already satisfied: orjson<4.0.0,>=3.9.14 in ./.venv/lib/python3.12/site-packages (from langsmith<0.2.0,>=0.1.17->langchain==0.2.15->-r requirements.txt (line 1)) (3.10.7)\n",
      "Requirement already satisfied: annotated-types>=0.4.0 in ./.venv/lib/python3.12/site-packages (from pydantic<3,>=1->langchain==0.2.15->-r requirements.txt (line 1)) (0.7.0)\n",
      "Requirement already satisfied: pydantic-core==2.20.1 in ./.venv/lib/python3.12/site-packages (from pydantic<3,>=1->langchain==0.2.15->-r requirements.txt (line 1)) (2.20.1)\n",
      "Requirement already satisfied: six>=1.5 in ./.venv/lib/python3.12/site-packages (from python-dateutil>=2.8.2->pandas==2.2.2->-r requirements.txt (line 5)) (1.16.0)\n",
      "Requirement already satisfied: jsonpointer>=1.9 in ./.venv/lib/python3.12/site-packages (from jsonpatch<2.0,>=1.33->langchain-core<0.3.0,>=0.2.35->langchain==0.2.15->-r requirements.txt (line 1)) (3.0.0)\n",
      "\n",
      "\u001b[1m[\u001b[0m\u001b[34;49mnotice\u001b[0m\u001b[1;39;49m]\u001b[0m\u001b[39;49m A new release of pip is available: \u001b[0m\u001b[31;49m24.0\u001b[0m\u001b[39;49m -> \u001b[0m\u001b[32;49m24.2\u001b[0m\n",
      "\u001b[1m[\u001b[0m\u001b[34;49mnotice\u001b[0m\u001b[1;39;49m]\u001b[0m\u001b[39;49m To update, run: \u001b[0m\u001b[32;49mpip install --upgrade pip\u001b[0m\n"
     ]
    }
   ],
   "source": [
    "!pip install -r requirements.txt"
   ]
  },
  {
   "cell_type": "code",
   "execution_count": 3,
   "id": "62a6c562-daef-4452-ae62-0cfb879be6f9",
   "metadata": {},
   "outputs": [],
   "source": [
    "import os\n",
    "import json\n",
    "import logging\n",
    "import requests\n",
    "from urllib.parse import urlparse\n",
    "from dotenv import load_dotenv, find_dotenv"
   ]
  },
  {
   "cell_type": "code",
   "execution_count": null,
   "id": "767018c5-5a92-49b8-8f29-9795a39ed472",
   "metadata": {},
   "outputs": [],
   "source": [
    "load_dotenv(find_dotenv())\n",
    "\n",
    "logging.basicConfig(\n",
    "    level=logging.INFO,\n",
    "    format='%(asctime)s - %(levelname)s - %(message)s'\n",
    ")"
   ]
  },
  {
   "cell_type": "code",
   "execution_count": null,
   "id": "3bf561ea-3828-45be-aca0-ef220de5cddb",
   "metadata": {},
   "outputs": [],
   "source": [
    "GITHUB_ACCESS_TOKEN = os.environ.get(\"GITHUB_ACCESS_TOKEN\")"
   ]
  },
  {
   "cell_type": "code",
   "execution_count": null,
   "id": "a3f89059-41ac-4efb-b99b-8e7e74df7298",
   "metadata": {},
   "outputs": [],
   "source": [
    "def is_empty(value): \n",
    "    if not value or value.strip() == \"\":\n",
    "        return True\n",
    "        \n",
    "    return False"
   ]
  },
  {
   "cell_type": "code",
   "execution_count": null,
   "id": "2b69080c-8ef1-4f80-8e90-7b64f5bd1308",
   "metadata": {},
   "outputs": [],
   "source": [
    "def get_repo_from_url(github_url):\n",
    "    parsed_url = urlparse(github_url)\n",
    "    \n",
    "    path_parts = parsed_url.path.strip('/').split('/')\n",
    "    \n",
    "    if len(path_parts) >= 2:\n",
    "        owner = path_parts[0]\n",
    "        repo = path_parts[1]\n",
    "        return owner, repo\n",
    "    else:\n",
    "        print(\"Invalid GitHub URL\")\n",
    "        return None, None\n",
    "        "
   ]
  },
  {
   "cell_type": "code",
   "execution_count": null,
   "id": "190da67c-7be8-4e47-a13a-7ca80b40251e",
   "metadata": {},
   "outputs": [],
   "source": [
    "def fetch_github_data(endpoint, repo, params=None):\n",
    "    if is_empty(GITHUB_ACCESS_TOKEN):\n",
    "        logging.error(\"GITHUB_ACCESS_TOKEN is not set, is None, or is an empty string.\")\n",
    "        return False\n",
    "      \n",
    "    url = f\"https://api.github.com/repos/{repo}/{endpoint}\"\n",
    "\n",
    "    headers = {\n",
    "        \"Authorization\": f\"Bearer {GITHUB_ACCESS_TOKEN}\",\n",
    "        \"Accept\": \"application/vnd.github+json\",\n",
    "        \"X-GitHub-Api-Version\": \"2022-11-28\"\n",
    "    }\n",
    "\n",
    "    logging.info(f\"Fetching data from {url} with params: {params}\")\n",
    "    response = requests.get(url, headers=headers, params=params)\n",
    "\n",
    "    if response.status_code != 200:\n",
    "        logging.error(f\"Failed to fetch data: HTTP {response.status_code}\")\n",
    "        logging.error(f\"Response text: {response.text}\")\n",
    "        return None\n",
    "    \n",
    "    try:\n",
    "        data = response.json()\n",
    "        logging.info(f\"Data fetched successfully from {url}\")\n",
    "        return data\n",
    "    except requests.JSONDecodeError as e:\n",
    "        logging.error(\"Failed to parse JSON response\")\n",
    "        logging.exception(e)\n",
    "        return None\n",
    "        "
   ]
  },
  {
   "cell_type": "code",
   "execution_count": null,
   "id": "3c7e4657-2835-4022-b682-2aced44ac23e",
   "metadata": {},
   "outputs": [],
   "source": [
    "def fetch_pull_request(repo, pull_request_url):\n",
    "    pr_number = pull_request_url.split('/')[-1]\n",
    "    endpoint = f\"pulls/{pr_number}\"\n",
    "    return fetch_github_data(endpoint, repo)\n"
   ]
  },
  {
   "cell_type": "code",
   "execution_count": null,
   "id": "8b7e10d8-0171-49a2-b323-2047d5d25aee",
   "metadata": {},
   "outputs": [],
   "source": [
    "github_url = \"https://github.com/apache/kafka\"\n",
    "owner, repo = get_repo_from_url(github_url)\n",
    "\n",
    "print(f\"Owner: {owner}\\nRepository: {repo}\")"
   ]
  },
  {
   "cell_type": "code",
   "execution_count": null,
   "id": "c9740874-d8b3-4b44-ade7-0a288c233c54",
   "metadata": {},
   "outputs": [],
   "source": [
    "issues = fetch_github_data(endpoint=\"issues\", repo=f\"{owner}/{repo}\", params={\"state\": \"open\"})\n",
    "# print(json.dumps(issues, indent=4))"
   ]
  },
  {
   "cell_type": "code",
   "execution_count": null,
   "id": "3ed68367-beff-401c-baa1-57f5fc3c1824",
   "metadata": {},
   "outputs": [],
   "source": [
    "max_iter_for_test = 2\n",
    "\n",
    "if issues:\n",
    "    for issue in issues:\n",
    "        print(f\"Issue #{issue['number']}: {issue['title']}\")\n",
    "        if 'pull_request' in issue:\n",
    "            pr_data = fetch_pull_request(\"apache/kafka\", issue['pull_request']['url'])\n",
    "            # print(json.dumps(pr_data, indent=4))\n",
    "        else:\n",
    "            print(\"This issue is not a pull request.\")\n",
    "\n",
    "        max_iter_for_test -= 1\n",
    "        if max_iter_for_test == 0:\n",
    "            break\n"
   ]
  },
  {
   "cell_type": "code",
   "execution_count": null,
   "id": "a82c9a1f-5188-41cc-bb9f-73a482130fd7",
   "metadata": {},
   "outputs": [],
   "source": []
  },
  {
   "cell_type": "code",
   "execution_count": null,
   "id": "f1280432-04dc-4836-b076-337b4dbe7272",
   "metadata": {},
   "outputs": [],
   "source": []
  },
  {
   "cell_type": "code",
   "execution_count": null,
   "id": "f9d29a8f-cfde-4a8a-9f0b-8930d389a659",
   "metadata": {},
   "outputs": [],
   "source": []
  },
  {
   "cell_type": "code",
   "execution_count": null,
   "id": "d254c829-5405-4d5d-9c60-6204bd9ddca2",
   "metadata": {},
   "outputs": [],
   "source": []
  },
  {
   "cell_type": "code",
   "execution_count": null,
   "id": "8d1ea4f0-3d6e-4632-ad02-8e1398daf816",
   "metadata": {},
   "outputs": [],
   "source": []
  },
  {
   "cell_type": "code",
   "execution_count": null,
   "id": "2afb5f1a-9031-464a-8bc8-173c1418b030",
   "metadata": {},
   "outputs": [],
   "source": []
  },
  {
   "cell_type": "code",
   "execution_count": null,
   "id": "e519e55d-100f-45da-8eb9-7bb370e8728e",
   "metadata": {},
   "outputs": [],
   "source": []
  },
  {
   "cell_type": "code",
   "execution_count": null,
   "id": "d5864503-dada-45d0-ba47-9bc9e980dddf",
   "metadata": {},
   "outputs": [],
   "source": []
  },
  {
   "cell_type": "code",
   "execution_count": null,
   "id": "9cb59364-7e7b-49fe-b334-b132c85b0ea7",
   "metadata": {},
   "outputs": [],
   "source": []
  },
  {
   "cell_type": "code",
   "execution_count": null,
   "id": "3cd48249-3f70-4fb7-a073-5b11eea3b14c",
   "metadata": {},
   "outputs": [],
   "source": []
  },
  {
   "cell_type": "code",
   "execution_count": null,
   "id": "919dd822-587b-470f-824a-3d80ecf91fee",
   "metadata": {},
   "outputs": [],
   "source": [
    "import os\n",
    "import datetime\n",
    "from openai import OpenAI\n",
    "from dotenv import load_dotenv, find_dotenv\n",
    "\n",
    "load_dotenv(find_dotenv()) \n",
    "\n",
    "client = OpenAI(\n",
    "    api_key=os.environ.get(\"OPENAI_API_KEY\"),\n",
    ")\n",
    "\n",
    "llm_model = \"gpt-3.5-turbo\"\n",
    "\n",
    "load_dotenv(find_dotenv()) \n",
    "\n",
    "client = OpenAI(\n",
    "    api_key=os.environ.get(\"OPENAI_API_KEY\"),\n",
    ")\n",
    "\n",
    "llm_model = \"gpt-3.5-turbo\"\n",
    "\n",
    "def get_completion(prompt, model=llm_model):\n",
    "    messages = [{\"role\": \"user\", \"content\": prompt}]\n",
    "    response = client.chat.completions.create(\n",
    "        model=model,\n",
    "        messages=messages,\n",
    "        temperature=0, \n",
    "    )\n",
    "\n",
    "    print(response)\n",
    "    return response.choices[0].message[\"content\"]\n",
    "\n",
    "# get_completion(\"What is 1+1?\")"
   ]
  },
  {
   "cell_type": "code",
   "execution_count": null,
   "id": "59eef8d4-7442-4619-ac92-f1643514b51a",
   "metadata": {},
   "outputs": [],
   "source": []
  },
  {
   "cell_type": "code",
   "execution_count": null,
   "id": "f4c40562-f2fb-4e24-91e2-0e2a329ec082",
   "metadata": {},
   "outputs": [],
   "source": []
  }
 ],
 "metadata": {
  "kernelspec": {
   "display_name": "Python 3 (ipykernel)",
   "language": "python",
   "name": "python3"
  },
  "language_info": {
   "codemirror_mode": {
    "name": "ipython",
    "version": 3
   },
   "file_extension": ".py",
   "mimetype": "text/x-python",
   "name": "python",
   "nbconvert_exporter": "python",
   "pygments_lexer": "ipython3",
   "version": "3.12.4"
  }
 },
 "nbformat": 4,
 "nbformat_minor": 5
}
