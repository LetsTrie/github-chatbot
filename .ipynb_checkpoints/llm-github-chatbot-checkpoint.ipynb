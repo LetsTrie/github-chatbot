{
 "cells": [
  {
   "cell_type": "code",
   "execution_count": null,
   "id": "83a25875-0b63-4c50-9bed-5ccd2503bfc5",
   "metadata": {},
   "outputs": [],
   "source": [
    "!pip install langchain openai requests python-dotenv"
   ]
  },
  {
   "cell_type": "code",
   "execution_count": null,
   "id": "919dd822-587b-470f-824a-3d80ecf91fee",
   "metadata": {},
   "outputs": [],
   "source": [
    "import os\n",
    "import datetime\n",
    "from openai import OpenAI\n",
    "from dotenv import load_dotenv, find_dotenv\n",
    "\n",
    "load_dotenv(find_dotenv()) \n",
    "\n",
    "client = OpenAI(\n",
    "    api_key=os.environ.get(\"OPENAI_API_KEY\"),\n",
    ")\n",
    "\n",
    "llm_model = \"gpt-3.5-turbo\"\n",
    "\n",
    "load_dotenv(find_dotenv()) \n",
    "\n",
    "client = OpenAI(\n",
    "    api_key=os.environ.get(\"OPENAI_API_KEY\"),\n",
    ")\n",
    "\n",
    "llm_model = \"gpt-3.5-turbo\"\n",
    "\n",
    "def get_completion(prompt, model=llm_model):\n",
    "    messages = [{\"role\": \"user\", \"content\": prompt}]\n",
    "    response = client.chat.completions.create(\n",
    "        model=model,\n",
    "        messages=messages,\n",
    "        temperature=0, \n",
    "    )\n",
    "\n",
    "    print(response)\n",
    "    return response.choices[0].message[\"content\"]\n",
    "\n",
    "# get_completion(\"What is 1+1?\")"
   ]
  },
  {
   "cell_type": "code",
   "execution_count": null,
   "id": "c9740874-d8b3-4b44-ade7-0a288c233c54",
   "metadata": {},
   "outputs": [],
   "source": [
    "import requests\n",
    "\n",
    "GITHUB_ACCESS_TOKEN = os.environ.get(\"GITHUB_ACCESS_TOKEN\")\n",
    "\n",
    "def fetch_commit_data(url):\n",
    "    headers = {\n",
    "        \"Authorization\": f\"Bearer {GITHUB_ACCESS_TOKEN}\",\n",
    "        \"Accept\": \"application/vnd.github+json\",\n",
    "        \"X-GitHub-Api-Version\": \"2022-11-28\"\n",
    "    }\n",
    "\n",
    "    response = requests.get(url, headers=headers)\n",
    "\n",
    "    if response.status_code != 200:\n",
    "        print(f\"Error: Received status code {response.status_code}\")\n",
    "        print(f\"Response text: {response.text}\")\n",
    "        return None\n",
    "    \n",
    "    try:\n",
    "        return response.json()\n",
    "    except requests.JSONDecodeError:\n",
    "        print(\"Failed to parse JSON response\")\n",
    "        print(f\"Response text: {response.text}\")\n",
    "        return None\n",
    "\n",
    "fetch_commit_data(\"https://api.github.com/repos/apache/kafka/issues\")"
   ]
  },
  {
   "cell_type": "code",
   "execution_count": null,
   "id": "59eef8d4-7442-4619-ac92-f1643514b51a",
   "metadata": {},
   "outputs": [],
   "source": []
  }
 ],
 "metadata": {
  "kernelspec": {
   "display_name": "Python 3 (ipykernel)",
   "language": "python",
   "name": "python3"
  },
  "language_info": {
   "codemirror_mode": {
    "name": "ipython",
    "version": 3
   },
   "file_extension": ".py",
   "mimetype": "text/x-python",
   "name": "python",
   "nbconvert_exporter": "python",
   "pygments_lexer": "ipython3",
   "version": "3.12.4"
  }
 },
 "nbformat": 4,
 "nbformat_minor": 5
}
